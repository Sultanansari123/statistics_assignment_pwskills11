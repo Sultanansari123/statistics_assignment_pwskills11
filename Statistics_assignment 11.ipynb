{
 "cells": [
  {
   "cell_type": "markdown",
   "id": "e99e3d40-de95-49c8-91c5-01385e2278bc",
   "metadata": {},
   "source": [
    "# Statistics Assignment"
   ]
  },
  {
   "cell_type": "code",
   "execution_count": 1,
   "id": "4a4ec313-717e-42b1-9138-7fe6d713573c",
   "metadata": {},
   "outputs": [
    {
     "name": "stdout",
     "output_type": "stream",
     "text": [
      "95% Confidence Interval: (48.21, 51.79)\n"
     ]
    }
   ],
   "source": [
    "import scipy.stats as stats\n",
    "\n",
    "# Given data\n",
    "mean = 50\n",
    "std_dev = 5\n",
    "sample_size = 30  # Replace with your actual sample size\n",
    "\n",
    "# Calculate the standard error\n",
    "std_error = std_dev / (sample_size ** 0.5)\n",
    "\n",
    "# Set the confidence level\n",
    "confidence_level = 0.95\n",
    "\n",
    "# Calculate the margin of error\n",
    "margin_of_error = stats.norm.ppf((1 + confidence_level) / 2) * std_error\n",
    "\n",
    "# Calculate the confidence interval\n",
    "lower_limit = mean - margin_of_error\n",
    "upper_limit = mean + margin_of_error\n",
    "\n",
    "# Print the results\n",
    "print(f\"95% Confidence Interval: ({lower_limit:.2f}, {upper_limit:.2f})\")\n"
   ]
  },
  {
   "cell_type": "markdown",
   "id": "0357d48d-57ce-40a9-a50f-53622b366670",
   "metadata": {},
   "source": [
    "# Ans2-"
   ]
  },
  {
   "cell_type": "code",
   "execution_count": 2,
   "id": "2d2b80b6-b5f0-4c2e-892f-fa2072d58995",
   "metadata": {},
   "outputs": [
    {
     "name": "stdout",
     "output_type": "stream",
     "text": [
      "Chi-square statistic: 3.1000\n",
      "P-value: 0.6846\n",
      "The distribution of M&Ms colors is consistent with the expected distribution.\n"
     ]
    }
   ],
   "source": [
    "import scipy.stats as stats\n",
    "import numpy as np\n",
    "\n",
    "# Observed frequencies (counts of each color)\n",
    "observed_counts = np.array([25, 15, 20, 12, 10, 18])  # Replace with your actual counts\n",
    "\n",
    "# Expected frequencies (expected percentages multiplied by the total count)\n",
    "expected_percentages = np.array([0.20, 0.20, 0.20, 0.10, 0.10, 0.20])\n",
    "total_count = np.sum(observed_counts)\n",
    "expected_counts = total_count * expected_percentages\n",
    "\n",
    "# Perform the chi-square test\n",
    "chi2_stat, p_value = stats.chisquare(f_obs=observed_counts, f_exp=expected_counts)\n",
    "\n",
    "# Print the results\n",
    "print(f\"Chi-square statistic: {chi2_stat:.4f}\")\n",
    "print(f\"P-value: {p_value:.4f}\")\n",
    "\n",
    "# Compare p-value to the significance level\n",
    "alpha = 0.05\n",
    "if p_value < alpha:\n",
    "    print(\"The distribution of M&Ms colors is significantly different from the expected distribution.\")\n",
    "else:\n",
    "    print(\"The distribution of M&Ms colors is consistent with the expected distribution.\")\n"
   ]
  },
  {
   "cell_type": "markdown",
   "id": "9a49c58d-487f-43c7-9bef-c7204c43b64e",
   "metadata": {},
   "source": [
    "# Ans3-"
   ]
  },
  {
   "cell_type": "code",
   "execution_count": 3,
   "id": "d4331193-2491-4807-9cc2-5c8eb496a36e",
   "metadata": {},
   "outputs": [
    {
     "name": "stdout",
     "output_type": "stream",
     "text": [
      "Chi-square statistic: 5.8333\n",
      "P-value: 0.0541\n",
      "There is no significant association between the groups and outcomes.\n"
     ]
    }
   ],
   "source": [
    "import scipy.stats as stats\n",
    "import numpy as np\n",
    "\n",
    "# Given data\n",
    "groupA = np.array([20, 10, 15])\n",
    "groupB = np.array([15, 25, 20])\n",
    "\n",
    "# Create a contingency table\n",
    "contingency_table = np.array([groupA, groupB])\n",
    "\n",
    "# Perform the chi-square test\n",
    "chi2_stat, p_value, _, _ = stats.chi2_contingency(contingency_table)\n",
    "\n",
    "# Print the results\n",
    "print(f\"Chi-square statistic: {chi2_stat:.4f}\")\n",
    "print(f\"P-value: {p_value:.4f}\")\n",
    "\n",
    "# Compare p-value to the significance level\n",
    "alpha = 0.05\n",
    "if p_value < alpha:\n",
    "    print(\"There is a significant association between the groups and outcomes.\")\n",
    "else:\n",
    "    print(\"There is no significant association between the groups and outcomes.\")\n"
   ]
  },
  {
   "cell_type": "markdown",
   "id": "ff035fa4-e60d-4ef2-920e-3eafbe7c7f3d",
   "metadata": {},
   "source": [
    "In this example, groupA and groupB represent the counts for different outcomes in two groups. The chi2_contingency function is used to perform the chi-square test for independence on a contingency table."
   ]
  },
  {
   "cell_type": "markdown",
   "id": "ba0c0070-7540-43e3-b348-c06e7b4f300f",
   "metadata": {},
   "source": [
    "# Ans4-"
   ]
  },
  {
   "cell_type": "code",
   "execution_count": 4,
   "id": "d04f628e-c985-48bf-b954-041ee018f3b3",
   "metadata": {},
   "outputs": [
    {
     "name": "stdout",
     "output_type": "stream",
     "text": [
      "95% Confidence Interval: (0.0915, 0.1485)\n"
     ]
    }
   ],
   "source": [
    "import scipy.stats as stats\n",
    "import math\n",
    "\n",
    "# Given data\n",
    "total_population = 500\n",
    "smokers = 60\n",
    "\n",
    "# Calculate the sample proportion\n",
    "p_hat = smokers / total_population\n",
    "\n",
    "# Set the confidence level\n",
    "confidence_level = 0.95\n",
    "\n",
    "# Calculate the Z-score for the confidence level\n",
    "z_score = stats.norm.ppf((1 + confidence_level) / 2)\n",
    "\n",
    "# Calculate the standard error\n",
    "std_error = math.sqrt((p_hat * (1 - p_hat)) / total_population)\n",
    "\n",
    "# Calculate the margin of error\n",
    "margin_of_error = z_score * std_error\n",
    "\n",
    "# Calculate the confidence interval\n",
    "lower_limit = p_hat - margin_of_error\n",
    "upper_limit = p_hat + margin_of_error\n",
    "\n",
    "# Print the results\n",
    "print(f\"95% Confidence Interval: ({lower_limit:.4f}, {upper_limit:.4f})\")\n"
   ]
  },
  {
   "cell_type": "markdown",
   "id": "e54f92f9-e1f3-4b15-9d35-67138663afc3",
   "metadata": {},
   "source": [
    "p_hat is the sample proportion of smokers.\n",
    "z_score is the Z-score corresponding to the 95% confidence level.\n",
    "std_error is the standard error of the proportion.\n",
    "margin_of_error is the margin of error for the confidence interval.\n",
    "lower_limit and upper_limit are the lower and upper bounds of the confidence interval."
   ]
  },
  {
   "cell_type": "markdown",
   "id": "008df94f-82be-482b-bef5-fb0bb9bebfa9",
   "metadata": {},
   "source": [
    "# Ans5-"
   ]
  },
  {
   "cell_type": "raw",
   "id": "6a40fb83-aa24-40c4-9c90-78eb9f6b8cee",
   "metadata": {},
   "source": [
    "import numpy as np\n",
    "import matplotlib.pyplot as plt\n",
    "import scipy.stats as stats\n",
    "\n",
    "# Set the degrees of freedom\n",
    "degrees_of_freedom = 10\n",
    "\n",
    "# Generate values for the x-axis\n",
    "x = np.linspace(0, 30, 1000)\n",
    "\n",
    "# Plot the chi-square distribution\n",
    "plt.plot(x, stats.chi2.pdf(x, degrees_of_freedom), label=f'Chi-square ({degrees_of_freedom} df)')\n",
    "\n",
    "# Shade the area corresponding to a chi-square statistic of 15\n",
    "x_shaded = np.linspace(15, 30, 100)\n",
    "plt.fill_between(x_shaded, stats.chi2.pdf(x_shaded, degrees_of_freedom), alpha=0.3, color='red', label='Chi-square statistic = 15')\n",
    "\n",
    "# Label the axes\n",
    "plt.xlabel('Chi-square Statistic')\n",
    "plt.ylabel('Probability Density Function')\n",
    "plt.title(f'Chi-square Distribution with {degrees_of_freedom} Degrees of Freedom')\n",
    "plt.legend()\n",
    "\n",
    "# Show the plot\n",
    "plt.show()\n"
   ]
  },
  {
   "cell_type": "markdown",
   "id": "fcfaf9fb-4582-43f5-9164-f3a7f6976512",
   "metadata": {},
   "source": [
    "# Ans6-"
   ]
  },
  {
   "cell_type": "code",
   "execution_count": 5,
   "id": "614c78b1-b2c0-4e4a-b35a-1c54b37e4d35",
   "metadata": {},
   "outputs": [
    {
     "name": "stdout",
     "output_type": "stream",
     "text": [
      "99% Confidence Interval: (0.4793, 0.5607)\n"
     ]
    }
   ],
   "source": [
    "import scipy.stats as stats\n",
    "import math\n",
    "\n",
    "# Given data\n",
    "sample_size = 1000\n",
    "coke_preference = 520\n",
    "\n",
    "# Calculate the sample proportion\n",
    "p_hat = coke_preference / sample_size\n",
    "\n",
    "# Set the confidence level\n",
    "confidence_level = 0.99\n",
    "\n",
    "# Calculate the Z-score for the confidence level\n",
    "z_score = stats.norm.ppf((1 + confidence_level) / 2)\n",
    "\n",
    "# Calculate the standard error\n",
    "std_error = math.sqrt((p_hat * (1 - p_hat)) / sample_size)\n",
    "\n",
    "# Calculate the margin of error\n",
    "margin_of_error = z_score * std_error\n",
    "\n",
    "# Calculate the confidence interval\n",
    "lower_limit = p_hat - margin_of_error\n",
    "upper_limit = p_hat + margin_of_error\n",
    "\n",
    "# Print the results\n",
    "print(f\"99% Confidence Interval: ({lower_limit:.4f}, {upper_limit:.4f})\")\n"
   ]
  },
  {
   "cell_type": "markdown",
   "id": "7b3f757d-a7f7-4ecd-875b-b850930c47f6",
   "metadata": {},
   "source": [
    "# Ans7-"
   ]
  },
  {
   "cell_type": "code",
   "execution_count": 6,
   "id": "17de8380-3388-4785-8e33-5c6d0b7e4f0f",
   "metadata": {},
   "outputs": [
    {
     "name": "stdout",
     "output_type": "stream",
     "text": [
      "Chi-square statistic: 1.0000\n",
      "P-value: 0.3173\n",
      "The observed frequencies are consistent with the expected frequencies.\n"
     ]
    }
   ],
   "source": [
    "import scipy.stats as stats\n",
    "import numpy as np\n",
    "\n",
    "# Given data\n",
    "observed_tails = 45\n",
    "total_flips = 100\n",
    "expected_tails = total_flips / 2  # For a fair coin, the expected number of tails is half of the total flips\n",
    "\n",
    "# Create observed and expected frequency arrays\n",
    "observed_frequencies = np.array([observed_tails, total_flips - observed_tails])\n",
    "expected_frequencies = np.array([expected_tails, total_flips - expected_tails])\n",
    "\n",
    "# Perform the chi-square goodness-of-fit test\n",
    "chi2_stat, p_value = stats.chisquare(f_obs=observed_frequencies, f_exp=expected_frequencies)\n",
    "\n",
    "# Print the results\n",
    "print(f\"Chi-square statistic: {chi2_stat:.4f}\")\n",
    "print(f\"P-value: {p_value:.4f}\")\n",
    "\n",
    "# Compare p-value to the significance level\n",
    "alpha = 0.05\n",
    "if p_value < alpha:\n",
    "    print(\"The observed frequencies are significantly different from the expected frequencies.\")\n",
    "else:\n",
    "    print(\"The observed frequencies are consistent with the expected frequencies.\")\n"
   ]
  },
  {
   "cell_type": "markdown",
   "id": "f0680e68-742c-4f71-b24e-dedb524a7ad4",
   "metadata": {},
   "source": [
    "# Ans8-"
   ]
  },
  {
   "cell_type": "code",
   "execution_count": 7,
   "id": "6850b995-bcd0-425f-b4bb-5e5d2192f5ac",
   "metadata": {},
   "outputs": [
    {
     "name": "stdout",
     "output_type": "stream",
     "text": [
      "Chi-square statistic: 1.0000\n",
      "P-value: 0.3173\n",
      "The observed frequencies are consistent with the expected frequencies. There is no significant evidence to suggest bias towards tails.\n"
     ]
    }
   ],
   "source": [
    "import scipy.stats as stats\n",
    "import numpy as np\n",
    "\n",
    "# Given data\n",
    "observed_tails = 45\n",
    "total_flips = 100\n",
    "expected_tails = total_flips / 2  # For a fair coin, the expected number of tails is half of the total flips\n",
    "\n",
    "# Create observed and expected frequency arrays\n",
    "observed_frequencies = np.array([observed_tails, total_flips - observed_tails])\n",
    "expected_frequencies = np.array([expected_tails, total_flips - expected_tails])\n",
    "\n",
    "# Perform the chi-square goodness-of-fit test\n",
    "chi2_stat, p_value = stats.chisquare(f_obs=observed_frequencies, f_exp=expected_frequencies)\n",
    "\n",
    "# Print the results\n",
    "print(f\"Chi-square statistic: {chi2_stat:.4f}\")\n",
    "print(f\"P-value: {p_value:.4f}\")\n",
    "\n",
    "# Compare p-value to the significance level\n",
    "alpha = 0.05\n",
    "if p_value < alpha:\n",
    "    print(\"The observed frequencies are significantly different from the expected frequencies. The coin may be biased towards tails.\")\n",
    "else:\n",
    "    print(\"The observed frequencies are consistent with the expected frequencies. There is no significant evidence to suggest bias towards tails.\")\n"
   ]
  },
  {
   "cell_type": "markdown",
   "id": "0f547bda-e27b-4976-a866-f62526caa998",
   "metadata": {},
   "source": [
    "# Ans9-"
   ]
  },
  {
   "cell_type": "code",
   "execution_count": null,
   "id": "bf5fc4e3-5f58-4475-8575-0e34019b7160",
   "metadata": {},
   "outputs": [],
   "source": []
  }
 ],
 "metadata": {
  "kernelspec": {
   "display_name": "Python 3 (ipykernel)",
   "language": "python",
   "name": "python3"
  },
  "language_info": {
   "codemirror_mode": {
    "name": "ipython",
    "version": 3
   },
   "file_extension": ".py",
   "mimetype": "text/x-python",
   "name": "python",
   "nbconvert_exporter": "python",
   "pygments_lexer": "ipython3",
   "version": "3.10.8"
  }
 },
 "nbformat": 4,
 "nbformat_minor": 5
}
